{
  "nbformat": 4,
  "nbformat_minor": 0,
  "metadata": {
    "colab": {
      "provenance": []
    },
    "kernelspec": {
      "name": "python3",
      "display_name": "Python 3"
    },
    "language_info": {
      "name": "python"
    }
  },
  "cells": [
    {
      "cell_type": "code",
      "execution_count": 6,
      "metadata": {
        "colab": {
          "base_uri": "https://localhost:8080/"
        },
        "id": "zPjKGyFrQC8q",
        "outputId": "aef9b5b4-3a56-40a0-f69c-eeaa97e7a968"
      },
      "outputs": [
        {
          "output_type": "stream",
          "name": "stderr",
          "text": [
            "[nltk_data] Downloading package wordnet to /root/nltk_data...\n"
          ]
        },
        {
          "output_type": "execute_result",
          "data": {
            "text/plain": [
              "True"
            ]
          },
          "metadata": {},
          "execution_count": 6
        }
      ],
      "source": [
        "import nltk\n",
        "from nltk.stem.porter import *\n",
        "nltk.download('wordnet')"
      ]
    },
    {
      "cell_type": "code",
      "source": [
        "text = 'Lorem ipsum dolor sit amet, consectetuer adipiscing elit. Aenean commodo ligula eget dolor. Aenean massa. Cum sociis natoque penatibus et magnis dis parturient montes, nascetur ridiculus mus. Donec quam felis, ultricies nec, pellentesque eu, pretium quis, sem. Nulla consequat massa quis enim. Donec pede justo, fringilla vel, aliquet nec, vulputate eget, arcu. In enim justo, rhoncus ut, imperdiet a, venenatis vitae, justo. Nullam dictum felis eu pede mollis pretium. Integer tincidunt. Cras dapibus. Vivamus elementum semper nisi. Aenean vulputate eleifend tellus. Aenean leo ligula, porttitor eu, consequat vitae, eleifend ac, enim. Aliquam lorem ante, dapibus in, viverra quis, feugiat a, tellus. Phasellus viverra nulla ut metus varius laoreet. Quisque rutrum. Aenean imperdiet. Etiam ultricies nisi vel augue. Curabitur ullamcorper ultricies nisi. Nam eget dui. Etiam rhoncus. Maecenas tempus, tellus eget condimentum rhoncus, sem quam semper libero, sit amet adipiscing sem neque sed ipsum. Nam quam nunc, blandit vel, luctus pulvinar, hendrerit id, lorem. Maecenas nec odio et ante tincidunt tempus. Donec vitae sapien ut libero venenatis faucibus. Nullam quis ante. Etiam sit amet orci eget eros faucibus tincidunt. Duis leo. Sed fringilla mauris sit amet nibh. Donec sodales sagittis magna. Sed consequat, leo eget bibendum sodales, augue velit cursus nunc,'\n",
        "plurals = text.split()\n",
        "print([PorterStemmer().stem(plural) for plural in plurals])"
      ],
      "metadata": {
        "colab": {
          "base_uri": "https://localhost:8080/"
        },
        "id": "Ag4BoXkuQcHD",
        "outputId": "6f86e0ab-0740-4c1c-efea-97123cf076d8"
      },
      "execution_count": 3,
      "outputs": [
        {
          "output_type": "stream",
          "name": "stdout",
          "text": [
            "['lorem', 'ipsum', 'dolor', 'sit', 'amet,', 'consectetu', 'adipisc', 'elit.', 'aenean', 'commodo', 'ligula', 'eget', 'dolor.', 'aenean', 'massa.', 'cum', 'socii', 'natoqu', 'penatibu', 'et', 'magni', 'di', 'parturi', 'montes,', 'nascetur', 'ridiculu', 'mus.', 'donec', 'quam', 'felis,', 'ultrici', 'nec,', 'pellentesqu', 'eu,', 'pretium', 'quis,', 'sem.', 'nulla', 'consequat', 'massa', 'qui', 'enim.', 'donec', 'pede', 'justo,', 'fringilla', 'vel,', 'aliquet', 'nec,', 'vulput', 'eget,', 'arcu.', 'in', 'enim', 'justo,', 'rhoncu', 'ut,', 'imperdiet', 'a,', 'venenati', 'vitae,', 'justo.', 'nullam', 'dictum', 'feli', 'eu', 'pede', 'molli', 'pretium.', 'integ', 'tincidunt.', 'cra', 'dapibus.', 'vivamu', 'elementum', 'semper', 'nisi.', 'aenean', 'vulput', 'eleifend', 'tellus.', 'aenean', 'leo', 'ligula,', 'porttitor', 'eu,', 'consequat', 'vitae,', 'eleifend', 'ac,', 'enim.', 'aliquam', 'lorem', 'ante,', 'dapibu', 'in,', 'viverra', 'quis,', 'feugiat', 'a,', 'tellus.', 'phasellu', 'viverra', 'nulla', 'ut', 'metu', 'variu', 'laoreet.', 'quisqu', 'rutrum.', 'aenean', 'imperdiet.', 'etiam', 'ultrici', 'nisi', 'vel', 'augue.', 'curabitur', 'ullamcorp', 'ultrici', 'nisi.', 'nam', 'eget', 'dui.', 'etiam', 'rhoncus.', 'maecena', 'tempus,', 'tellu', 'eget', 'condimentum', 'rhoncus,', 'sem', 'quam', 'semper', 'libero,', 'sit', 'amet', 'adipisc', 'sem', 'nequ', 'sed', 'ipsum.', 'nam', 'quam', 'nunc,', 'blandit', 'vel,', 'luctu', 'pulvinar,', 'hendrerit', 'id,', 'lorem.', 'maecena', 'nec', 'odio', 'et', 'ant', 'tincidunt', 'tempus.', 'donec', 'vita', 'sapien', 'ut', 'libero', 'venenati', 'faucibus.', 'nullam', 'qui', 'ante.', 'etiam', 'sit', 'amet', 'orci', 'eget', 'ero', 'faucibu', 'tincidunt.', 'dui', 'leo.', 'sed', 'fringilla', 'mauri', 'sit', 'amet', 'nibh.', 'donec', 'sodal', 'sagitti', 'magna.', 'sed', 'consequat,', 'leo', 'eget', 'bibendum', 'sodales,', 'augu', 'velit', 'cursu', 'nunc,']\n"
          ]
        }
      ]
    },
    {
      "cell_type": "code",
      "source": [
        "from nltk.stem import WordNetLemmatizer\n",
        "\n",
        "wnl = WordNetLemmatizer()\n",
        "wnl.lemmatize(\"rhoncus\")"
      ],
      "metadata": {
        "colab": {
          "base_uri": "https://localhost:8080/",
          "height": 36
        },
        "id": "ym8CEmJ2Q0wr",
        "outputId": "6ffbba25-43e8-42a0-975e-380dba2dfdba"
      },
      "execution_count": 10,
      "outputs": [
        {
          "output_type": "execute_result",
          "data": {
            "text/plain": [
              "'rhoncus'"
            ],
            "application/vnd.google.colaboratory.intrinsic+json": {
              "type": "string"
            }
          },
          "metadata": {},
          "execution_count": 10
        }
      ]
    }
  ]
}