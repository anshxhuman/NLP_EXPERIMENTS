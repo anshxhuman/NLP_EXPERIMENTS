{
  "nbformat": 4,
  "nbformat_minor": 0,
  "metadata": {
    "colab": {
      "provenance": []
    },
    "kernelspec": {
      "name": "python3",
      "display_name": "Python 3"
    },
    "language_info": {
      "name": "python"
    }
  },
  "cells": [
    {
      "cell_type": "code",
      "source": [
        "import nltk\n",
        "nltk.download('punkt')\n",
        "nltk.download('stopwords')\n",
        "from nltk.tokenize import sent_tokenize, word_tokenize\n",
        "from nltk.corpus import stopwords\n",
        "from nltk.probability import FreqDist\n",
        "from nltk.cluster.util import cosine_distance\n",
        "import numpy as np\n",
        "import networkx as nx"
      ],
      "metadata": {
        "colab": {
          "base_uri": "https://localhost:8080/"
        },
        "id": "scjFrQcjZM2C",
        "outputId": "48826624-6f0e-4545-d9c9-a4876b640d15"
      },
      "execution_count": 34,
      "outputs": [
        {
          "output_type": "stream",
          "name": "stderr",
          "text": [
            "[nltk_data] Downloading package punkt to /root/nltk_data...\n",
            "[nltk_data]   Package punkt is already up-to-date!\n",
            "[nltk_data] Downloading package stopwords to /root/nltk_data...\n",
            "[nltk_data]   Package stopwords is already up-to-date!\n"
          ]
        }
      ]
    },
    {
      "cell_type": "code",
      "source": [
        "def read_article(text):\n",
        "    article = text.split(\". \")\n",
        "    sentences = []\n",
        "\n",
        "    for sentence in article:\n",
        "        sentences.append(sentence.replace(\"[^a-zA-Z]\", \" \").split(\" \"))\n",
        "\n",
        "    sentences.pop()\n",
        "\n",
        "    return sentences"
      ],
      "metadata": {
        "id": "6co5HAOLZt3N"
      },
      "execution_count": 35,
      "outputs": []
    },
    {
      "cell_type": "code",
      "source": [
        "def sentence_similarity(sent1, sent2, stopwords=None):\n",
        "    if stopwords is None:\n",
        "        stopwords = []\n",
        "\n",
        "    sent1 = [word.lower() for word in sent1]\n",
        "    sent2 = [word.lower() for word in sent2]\n",
        "\n",
        "    all_words = list(set(sent1 + sent2))\n",
        "\n",
        "    vector1 = [0] * len(all_words)\n",
        "    vector2 = [0] * len(all_words)\n",
        "\n",
        "    for word in sent1:\n",
        "        if word in stopwords:\n",
        "            continue\n",
        "        vector1[all_words.index(word)] += 1\n",
        "\n",
        "    for word in sent2:\n",
        "        if word in stopwords:\n",
        "            continue\n",
        "        vector2[all_words.index(word)] += 1\n",
        "\n",
        "    return 1 - cosine_distance(vector1, vector2)"
      ],
      "metadata": {
        "id": "twFcOb-Ha-iM"
      },
      "execution_count": 36,
      "outputs": []
    },
    {
      "cell_type": "code",
      "source": [
        "def build_similarity_matrix(sentences, stop_words):\n",
        "    similarity_matrix = np.zeros((len(sentences), len(sentences)))\n",
        "\n",
        "    for idx1 in range(len(sentences)):\n",
        "        for idx2 in range(len(sentences)):\n",
        "            if idx1 == idx2:\n",
        "                continue\n",
        "            similarity_matrix[idx1][idx2] = sentence_similarity(sentences[idx1], sentences[idx2], stop_words)\n",
        "\n",
        "    return similarity_matrix"
      ],
      "metadata": {
        "id": "1CQZ0XVpbAld"
      },
      "execution_count": 38,
      "outputs": []
    },
    {
      "cell_type": "code",
      "source": [
        "def generate_summary(text, top_n=5):\n",
        "    stop_words = stopwords.words('english')\n",
        "    summarize_text = []\n",
        "\n",
        "    sentences =  read_article(text)\n",
        "    sentence_similarity_matrix = build_similarity_matrix(sentences, stop_words)\n",
        "    sentence_similarity_graph = nx.from_numpy_array(sentence_similarity_matrix)\n",
        "    scores = nx.pagerank(sentence_similarity_graph)\n",
        "\n",
        "    ranked_sentence = sorted(((scores[i],s) for i,s in enumerate(sentences)), reverse=True)\n",
        "    for i in range(min(top_n, len(ranked_sentence))):  # Check against the actual number of sentences\n",
        "        summarize_text.append(\" \".join(ranked_sentence[i][1]))\n",
        "\n",
        "    return \". \".join(summarize_text)"
      ],
      "metadata": {
        "id": "W0RF-R3lbFn6"
      },
      "execution_count": 39,
      "outputs": []
    },
    {
      "cell_type": "code",
      "source": [
        "# Sample text for summarization\n",
        "text = \"\"\"\n",
        "Having a best friend by Shaikh Subuhi is one of the best friendship moral stories in English.\n",
        "The story is about two friends who were walking through the desert. During the journey, they\n",
        "argued over something, and one friend slapped the other. The one who got slapped was hurt by\n",
        "this gesture of his best friend but did not react. He quietly wrote in the sand, “Today my best friend slapped me.”\n",
        "After some time, they found an oasis and started taking a bath in the lake. Suddenly, the one who had been slapped\n",
        "started drowning. Then his friend came to his rescue and saved him. After he recovered from the drowning, he\n",
        "engraved “Today my best friend saved my life” on a stone.\n",
        "The friend who had slapped earlier and later saved his best friend asked, “After I slapped you, you wrote in the sand,\n",
        "and now, as I saved you, you write on a stone, why?” The other friend replied, “I wrote in on sand because we should\n",
        "not keep the feeling of getting hurt by someone for a long time. But, when someone does something good for us, we must\n",
        "remember it forever like a message engraved on a stone that nothing can erase”.\n",
        "Moral: Remember the good things that happen in life, not the bad memories.\n",
        "\"\"\""
      ],
      "metadata": {
        "id": "NwfZpgl6bCIN"
      },
      "execution_count": 41,
      "outputs": []
    },
    {
      "cell_type": "code",
      "source": [
        "# Generate and print the summary\n",
        "summary = generate_summary(text)\n",
        "print(summary)"
      ],
      "metadata": {
        "colab": {
          "base_uri": "https://localhost:8080/"
        },
        "id": "pLOwERAhbG6h",
        "outputId": "26aff1e7-0866-4486-e741-7898cb39687a"
      },
      "execution_count": 42,
      "outputs": [
        {
          "output_type": "stream",
          "name": "stdout",
          "text": [
            "The one who got slapped was hurt by \n",
            "this gesture of his best friend but did not react. After he recovered from the drowning, he \n",
            "engraved “Today my best friend saved my life” on a stone.\n",
            "The friend who had slapped earlier and later saved his best friend asked, “After I slapped you, you wrote in the sand,\n",
            "and now, as I saved you, you write on a stone, why?” The other friend replied, “I wrote in on sand because we should\n",
            "not keep the feeling of getting hurt by someone for a long time. During the journey, they \n",
            "argued over something, and one friend slapped the other. \n",
            "Having a best friend by Shaikh Subuhi is one of the best friendship moral stories in English. He quietly wrote in the sand, “Today my best friend slapped me.”\n",
            "After some time, they found an oasis and started taking a bath in the lake\n"
          ]
        }
      ]
    },
    {
      "cell_type": "code",
      "source": [],
      "metadata": {
        "id": "lZv50SqYbJrl"
      },
      "execution_count": null,
      "outputs": []
    }
  ]
}
